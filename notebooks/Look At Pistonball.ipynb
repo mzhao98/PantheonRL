{
 "cells": [
  {
   "cell_type": "code",
   "execution_count": 4,
   "metadata": {
    "scrolled": true
   },
   "outputs": [
    {
     "name": "stdout",
     "output_type": "stream",
     "text": [
      "\u001b[33mWARNING: Keyring is skipped due to an exception: Failed to create the collection: Prompt dismissed..\u001b[0m\n",
      "\u001b[33mWARNING: Keyring is skipped due to an exception: Failed to create the collection: Prompt dismissed..\u001b[0m\n",
      "Collecting stable_baselines3\n",
      "\u001b[33m  WARNING: Keyring is skipped due to an exception: Failed to create the collection: Prompt dismissed..\u001b[0m\n",
      "  Downloading stable_baselines3-1.5.0-py3-none-any.whl (177 kB)\n",
      "\u001b[K     |████████████████████████████████| 177 kB 4.4 MB/s eta 0:00:01\n",
      "\u001b[33mWARNING: Keyring is skipped due to an exception: Failed to create the collection: Prompt dismissed..\u001b[0m\n",
      "\u001b[33mWARNING: Keyring is skipped due to an exception: Failed to create the collection: Prompt dismissed..\u001b[0m\n",
      "\u001b[?25hProcessing /home/mzhao2/.cache/pip/wheels/76/ee/9c/36bfe3e079df99acf5ae57f4e3464ff2771b34447d6d2f2148/gym-0.21.0-py3-none-any.whl\n",
      "Requirement already satisfied: matplotlib in /home/mzhao2/anaconda3/lib/python3.7/site-packages (from stable_baselines3) (3.1.3)\n",
      "Requirement already satisfied: cloudpickle in /home/mzhao2/anaconda3/lib/python3.7/site-packages (from stable_baselines3) (1.3.0)\n",
      "\u001b[33mWARNING: Keyring is skipped due to an exception: Failed to create the collection: Prompt dismissed..\u001b[0m\n",
      "\u001b[33mWARNING: Keyring is skipped due to an exception: Failed to create the collection: Prompt dismissed..\u001b[0m\n",
      "Collecting torch>=1.8.1\n",
      "\u001b[33m  WARNING: Keyring is skipped due to an exception: Failed to create the collection: Prompt dismissed..\u001b[0m\n",
      "  Using cached torch-1.11.0-cp37-cp37m-manylinux1_x86_64.whl (750.6 MB)\n",
      "Requirement already satisfied: numpy in /home/mzhao2/anaconda3/lib/python3.7/site-packages (from stable_baselines3) (1.19.5)\n",
      "Requirement already satisfied: pandas in /home/mzhao2/anaconda3/lib/python3.7/site-packages (from stable_baselines3) (1.0.1)\n",
      "\u001b[33mWARNING: Keyring is skipped due to an exception: Failed to create the collection: Prompt dismissed..\u001b[0m\n",
      "\u001b[33mWARNING: Keyring is skipped due to an exception: Failed to create the collection: Prompt dismissed..\u001b[0m\n",
      "Collecting importlib-metadata>=4.8.1; python_version < \"3.8\"\n",
      "\u001b[33m  WARNING: Keyring is skipped due to an exception: Failed to create the collection: Prompt dismissed..\u001b[0m\n",
      "  Using cached importlib_metadata-4.11.4-py3-none-any.whl (18 kB)\n",
      "Requirement already satisfied: pyparsing!=2.0.4,!=2.1.2,!=2.1.6,>=2.0.1 in /home/mzhao2/anaconda3/lib/python3.7/site-packages (from matplotlib->stable_baselines3) (2.4.6)\n",
      "Requirement already satisfied: kiwisolver>=1.0.1 in /home/mzhao2/anaconda3/lib/python3.7/site-packages (from matplotlib->stable_baselines3) (1.1.0)\n",
      "Requirement already satisfied: python-dateutil>=2.1 in /home/mzhao2/anaconda3/lib/python3.7/site-packages (from matplotlib->stable_baselines3) (2.8.1)\n",
      "Requirement already satisfied: cycler>=0.10 in /home/mzhao2/anaconda3/lib/python3.7/site-packages (from matplotlib->stable_baselines3) (0.10.0)\n",
      "Requirement already satisfied: typing-extensions in /home/mzhao2/anaconda3/lib/python3.7/site-packages (from torch>=1.8.1->stable_baselines3) (3.7.4.3)\n",
      "Requirement already satisfied: pytz>=2017.2 in /home/mzhao2/anaconda3/lib/python3.7/site-packages (from pandas->stable_baselines3) (2019.3)\n",
      "Requirement already satisfied: zipp>=0.5 in /home/mzhao2/anaconda3/lib/python3.7/site-packages (from importlib-metadata>=4.8.1; python_version < \"3.8\"->gym==0.21->stable_baselines3) (2.2.0)\n",
      "Requirement already satisfied: setuptools in /home/mzhao2/anaconda3/lib/python3.7/site-packages (from kiwisolver>=1.0.1->matplotlib->stable_baselines3) (45.2.0.post20200210)\n",
      "Requirement already satisfied: six>=1.5 in /home/mzhao2/anaconda3/lib/python3.7/site-packages (from python-dateutil>=2.1->matplotlib->stable_baselines3) (1.15.0)\n",
      "\u001b[31mERROR: pytest-astropy 0.8.0 requires pytest-cov>=2.0, which is not installed.\u001b[0m\n",
      "\u001b[31mERROR: pytest-astropy 0.8.0 requires pytest-filter-subpackage>=0.1, which is not installed.\u001b[0m\n",
      "Installing collected packages: importlib-metadata, gym, torch, stable-baselines3\n",
      "  Attempting uninstall: importlib-metadata\n",
      "    Found existing installation: importlib-metadata 1.5.0\n",
      "    Uninstalling importlib-metadata-1.5.0:\n",
      "      Successfully uninstalled importlib-metadata-1.5.0\n",
      "  Attempting uninstall: gym\n",
      "    Found existing installation: gym 0.18.3\n",
      "    Uninstalling gym-0.18.3:\n",
      "      Successfully uninstalled gym-0.18.3\n",
      "Successfully installed gym-0.21.0 importlib-metadata-4.11.4 stable-baselines3-1.5.0 torch-1.11.0\n",
      "\u001b[33mWARNING: Keyring is skipped due to an exception: Failed to create the collection: Prompt dismissed..\u001b[0m\n",
      "\u001b[33mWARNING: Keyring is skipped due to an exception: Failed to create the collection: Prompt dismissed..\u001b[0m\n",
      "Note: you may need to restart the kernel to use updated packages.\n"
     ]
    }
   ],
   "source": [
    "pip install stable_baselines3\n"
   ]
  },
  {
   "cell_type": "code",
   "execution_count": 5,
   "metadata": {
    "scrolled": true
   },
   "outputs": [
    {
     "name": "stdout",
     "output_type": "stream",
     "text": [
      "\u001b[33mWARNING: Keyring is skipped due to an exception: Failed to create the collection: Prompt dismissed..\u001b[0m\n",
      "\u001b[33mWARNING: Keyring is skipped due to an exception: Failed to create the collection: Prompt dismissed..\u001b[0m\n",
      "Collecting pettingzoo[all]\n",
      "\u001b[33m  WARNING: Keyring is skipped due to an exception: Failed to create the collection: Prompt dismissed..\u001b[0m\n",
      "  Using cached PettingZoo-1.18.1-py3-none-any.whl (796 kB)\n",
      "Requirement already satisfied: gym>=0.21.0 in /home/mzhao2/anaconda3/lib/python3.7/site-packages (from pettingzoo[all]) (0.21.0)\n",
      "Requirement already satisfied: numpy>=1.18.0 in /home/mzhao2/anaconda3/lib/python3.7/site-packages (from pettingzoo[all]) (1.19.5)\n",
      "Requirement already satisfied: pyglet>=1.4.0; extra == \"all\" in /home/mzhao2/anaconda3/lib/python3.7/site-packages/pyglet-1.5.15-py3.7.egg (from pettingzoo[all]) (1.5.15)\n",
      "\u001b[33mWARNING: Keyring is skipped due to an exception: Failed to create the collection: Prompt dismissed..\u001b[0m\n",
      "\u001b[33mWARNING: Keyring is skipped due to an exception: Failed to create the collection: Prompt dismissed..\u001b[0m\n",
      "Collecting pillow>=8.0.1; extra == \"all\"\n",
      "\u001b[33m  WARNING: Keyring is skipped due to an exception: Failed to create the collection: Prompt dismissed..\u001b[0m\n",
      "  Using cached Pillow-9.1.1-cp37-cp37m-manylinux_2_17_x86_64.manylinux2014_x86_64.whl (3.1 MB)\n",
      "\u001b[33mWARNING: Keyring is skipped due to an exception: Failed to create the collection: Prompt dismissed..\u001b[0m\n",
      "\u001b[33mWARNING: Keyring is skipped due to an exception: Failed to create the collection: Prompt dismissed..\u001b[0m\n",
      "Collecting box2d-py==2.3.5; extra == \"all\"\n",
      "\u001b[33m  WARNING: Keyring is skipped due to an exception: Failed to create the collection: Prompt dismissed..\u001b[0m\n",
      "  Using cached box2d_py-2.3.5-cp37-cp37m-manylinux1_x86_64.whl (2.1 MB)\n",
      "\u001b[33mWARNING: Keyring is skipped due to an exception: Failed to create the collection: Prompt dismissed..\u001b[0m\n",
      "\u001b[33mWARNING: Keyring is skipped due to an exception: Failed to create the collection: Prompt dismissed..\u001b[0m\n",
      "Processing /home/mzhao2/.cache/pip/wheels/bf/24/f0/03904c208e8feef0005d5786df096e8e8eb7e128e5d988888b/hanabi_learning_environment-0.0.1-cp37-cp37m-linux_x86_64.whl\n",
      "\u001b[33mWARNING: Keyring is skipped due to an exception: Failed to create the collection: Prompt dismissed..\u001b[0m\n",
      "\u001b[33mWARNING: Keyring is skipped due to an exception: Failed to create the collection: Prompt dismissed..\u001b[0m\n",
      "Collecting multi-agent-ale-py==0.1.11; extra == \"all\"\n",
      "\u001b[33m  WARNING: Keyring is skipped due to an exception: Failed to create the collection: Prompt dismissed..\u001b[0m\n",
      "  Using cached multi_agent_ale_py-0.1.11-cp37-cp37m-manylinux_2_12_x86_64.manylinux2010_x86_64.whl (778 kB)\n",
      "\u001b[33mWARNING: Keyring is skipped due to an exception: Failed to create the collection: Prompt dismissed..\u001b[0m\n",
      "\u001b[33mWARNING: Keyring is skipped due to an exception: Failed to create the collection: Prompt dismissed..\u001b[0m\n",
      "Collecting chess==1.7.0; extra == \"all\"\n",
      "\u001b[33m  WARNING: Keyring is skipped due to an exception: Failed to create the collection: Prompt dismissed..\u001b[0m\n",
      "  Using cached chess-1.7.0-py3-none-any.whl (147 kB)\n",
      "\u001b[33mWARNING: Keyring is skipped due to an exception: Failed to create the collection: Prompt dismissed..\u001b[0m\n",
      "\u001b[33mWARNING: Keyring is skipped due to an exception: Failed to create the collection: Prompt dismissed..\u001b[0m\n",
      "Collecting magent==0.2.2; extra == \"all\"\n",
      "\u001b[33m  WARNING: Keyring is skipped due to an exception: Failed to create the collection: Prompt dismissed..\u001b[0m\n",
      "  Using cached magent-0.2.2-cp37-cp37m-manylinux_2_17_x86_64.manylinux2014_x86_64.whl (1.7 MB)\n",
      "\u001b[33mWARNING: Keyring is skipped due to an exception: Failed to create the collection: Prompt dismissed..\u001b[0m\n",
      "\u001b[33mWARNING: Keyring is skipped due to an exception: Failed to create the collection: Prompt dismissed..\u001b[0m\n",
      "Collecting pymunk==6.2.0; extra == \"all\"\n",
      "\u001b[33m  WARNING: Keyring is skipped due to an exception: Failed to create the collection: Prompt dismissed..\u001b[0m\n",
      "  Using cached pymunk-6.2.0-cp37-cp37m-manylinux2010_x86_64.whl (980 kB)\n",
      "Requirement already satisfied: scipy>=1.4.1; extra == \"all\" in /home/mzhao2/anaconda3/lib/python3.7/site-packages (from pettingzoo[all]) (1.4.1)\n",
      "\u001b[33mWARNING: Keyring is skipped due to an exception: Failed to create the collection: Prompt dismissed..\u001b[0m\n",
      "\u001b[33mWARNING: Keyring is skipped due to an exception: Failed to create the collection: Prompt dismissed..\u001b[0m\n",
      "Collecting pygame==2.1.0; extra == \"all\"\n",
      "\u001b[33m  WARNING: Keyring is skipped due to an exception: Failed to create the collection: Prompt dismissed..\u001b[0m\n",
      "  Using cached pygame-2.1.0-cp37-cp37m-manylinux_2_17_x86_64.manylinux2014_x86_64.whl (18.3 MB)\n",
      "\u001b[33mWARNING: Keyring is skipped due to an exception: Failed to create the collection: Prompt dismissed..\u001b[0m\n",
      "\u001b[33mWARNING: Keyring is skipped due to an exception: Failed to create the collection: Prompt dismissed..\u001b[0m\n",
      "Processing /home/mzhao2/.cache/pip/wheels/81/8d/3d/b288215812e51a5dd9ed0b7ec713b982d77f1173a8d691aebb/rlcard-1.0.4-py3-none-any.whl\n",
      "Requirement already satisfied: cloudpickle>=1.2.0 in /home/mzhao2/anaconda3/lib/python3.7/site-packages (from gym>=0.21.0->pettingzoo[all]) (1.3.0)\n",
      "Requirement already satisfied: importlib-metadata>=4.8.1; python_version < \"3.8\" in /home/mzhao2/anaconda3/lib/python3.7/site-packages (from gym>=0.21.0->pettingzoo[all]) (4.11.4)\n",
      "Requirement already satisfied: cffi in /home/mzhao2/anaconda3/lib/python3.7/site-packages (from hanabi-learning-environment==0.0.1; extra == \"all\"->pettingzoo[all]) (1.14.0)\n",
      "Requirement already satisfied: termcolor in /home/mzhao2/anaconda3/lib/python3.7/site-packages (from rlcard==1.0.4; extra == \"all\"->pettingzoo[all]) (1.1.0)\n",
      "Requirement already satisfied: zipp>=0.5 in /home/mzhao2/anaconda3/lib/python3.7/site-packages (from importlib-metadata>=4.8.1; python_version < \"3.8\"->gym>=0.21.0->pettingzoo[all]) (2.2.0)\n",
      "Requirement already satisfied: typing-extensions>=3.6.4; python_version < \"3.8\" in /home/mzhao2/anaconda3/lib/python3.7/site-packages (from importlib-metadata>=4.8.1; python_version < \"3.8\"->gym>=0.21.0->pettingzoo[all]) (3.7.4.3)\n",
      "Requirement already satisfied: pycparser in /home/mzhao2/anaconda3/lib/python3.7/site-packages (from cffi->hanabi-learning-environment==0.0.1; extra == \"all\"->pettingzoo[all]) (2.19)\n",
      "\u001b[31mERROR: pymunk 6.2.0 has requirement cffi>1.14.0, but you'll have cffi 1.14.0 which is incompatible.\u001b[0m\n",
      "Installing collected packages: pillow, box2d-py, hanabi-learning-environment, multi-agent-ale-py, chess, pygame, magent, pymunk, rlcard, pettingzoo\n",
      "  Attempting uninstall: pillow\n",
      "    Found existing installation: Pillow 7.0.0\n",
      "    Uninstalling Pillow-7.0.0:\n",
      "      Successfully uninstalled Pillow-7.0.0\n",
      "Successfully installed box2d-py-2.3.5 chess-1.7.0 hanabi-learning-environment-0.0.1 magent-0.2.2 multi-agent-ale-py-0.1.11 pettingzoo-1.18.1 pillow-9.1.1 pygame-2.1.0 pymunk-6.2.0 rlcard-1.0.4\n",
      "Note: you may need to restart the kernel to use updated packages.\n"
     ]
    }
   ],
   "source": [
    "pip install pettingzoo[all]\n"
   ]
  },
  {
   "cell_type": "code",
   "execution_count": 7,
   "metadata": {},
   "outputs": [
    {
     "name": "stdout",
     "output_type": "stream",
     "text": [
      "Requirement already satisfied: supersuit in /home/mzhao2/anaconda3/lib/python3.7/site-packages (3.4.0)\n",
      "Requirement already satisfied: gym>=0.22.0 in /home/mzhao2/anaconda3/lib/python3.7/site-packages (from supersuit) (0.24.1)\n",
      "Requirement already satisfied: pettingzoo>=1.15.0 in /home/mzhao2/anaconda3/lib/python3.7/site-packages (from supersuit) (1.18.1)\n",
      "Requirement already satisfied: tinyscaler>=1.0.4 in /home/mzhao2/anaconda3/lib/python3.7/site-packages (from supersuit) (1.2.4)\n",
      "Requirement already satisfied: numpy>=1.18.0 in /home/mzhao2/anaconda3/lib/python3.7/site-packages (from gym>=0.22.0->supersuit) (1.19.5)\n",
      "Requirement already satisfied: gym-notices>=0.0.4 in /home/mzhao2/anaconda3/lib/python3.7/site-packages (from gym>=0.22.0->supersuit) (0.0.7)\n",
      "Requirement already satisfied: cloudpickle>=1.2.0 in /home/mzhao2/anaconda3/lib/python3.7/site-packages (from gym>=0.22.0->supersuit) (1.3.0)\n",
      "Requirement already satisfied: importlib-metadata>=4.8.0; python_version < \"3.10\" in /home/mzhao2/anaconda3/lib/python3.7/site-packages (from gym>=0.22.0->supersuit) (4.11.4)\n",
      "Requirement already satisfied: zipp>=0.5 in /home/mzhao2/anaconda3/lib/python3.7/site-packages (from importlib-metadata>=4.8.0; python_version < \"3.10\"->gym>=0.22.0->supersuit) (2.2.0)\n",
      "Requirement already satisfied: typing-extensions>=3.6.4; python_version < \"3.8\" in /home/mzhao2/anaconda3/lib/python3.7/site-packages (from importlib-metadata>=4.8.0; python_version < \"3.10\"->gym>=0.22.0->supersuit) (3.7.4.3)\n",
      "Note: you may need to restart the kernel to use updated packages.\n"
     ]
    }
   ],
   "source": [
    "pip install supersuit"
   ]
  },
  {
   "cell_type": "code",
   "execution_count": 23,
   "metadata": {},
   "outputs": [],
   "source": [
    "from stable_baselines3.ppo import CnnPolicy\n",
    "from stable_baselines3 import PPO\n",
    "from pettingzoo.butterfly import pistonball_v6\n",
    "import supersuit as ss\n",
    "\n",
    "from matplotlib import animation\n",
    "import matplotlib.pyplot as plt\n",
    "import gym\n",
    "import os\n",
    "os.environ[\"SDL_VIDEODRIVER\"] = \"dummy\"\n"
   ]
  },
  {
   "cell_type": "code",
   "execution_count": 10,
   "metadata": {},
   "outputs": [
    {
     "name": "stdout",
     "output_type": "stream",
     "text": [
      "Using cuda device\n",
      "Wrapping the env in a VecTransposeImage.\n"
     ]
    },
    {
     "name": "stderr",
     "output_type": "stream",
     "text": [
      "/home/mzhao2/anaconda3/lib/python3.7/site-packages/gym/utils/seeding.py:64: DeprecationWarning: \u001b[33mWARN: Function `rng.randint(low, [high, size, dtype])` is marked as deprecated and will be removed in the future. Please use `rng.integers(low, [high, size, dtype])` instead.\u001b[0m\n",
      "  \"Function `rng.randint(low, [high, size, dtype])` is marked as deprecated \"\n",
      "/home/mzhao2/anaconda3/lib/python3.7/site-packages/gym/utils/seeding.py:64: DeprecationWarning: \u001b[33mWARN: Function `rng.randint(low, [high, size, dtype])` is marked as deprecated and will be removed in the future. Please use `rng.integers(low, [high, size, dtype])` instead.\u001b[0m\n",
      "  \"Function `rng.randint(low, [high, size, dtype])` is marked as deprecated \"\n",
      "/home/mzhao2/anaconda3/lib/python3.7/site-packages/gym/utils/seeding.py:64: DeprecationWarning: \u001b[33mWARN: Function `rng.randint(low, [high, size, dtype])` is marked as deprecated and will be removed in the future. Please use `rng.integers(low, [high, size, dtype])` instead.\u001b[0m\n",
      "  \"Function `rng.randint(low, [high, size, dtype])` is marked as deprecated \"\n",
      "/home/mzhao2/anaconda3/lib/python3.7/site-packages/gym/utils/seeding.py:64: DeprecationWarning: \u001b[33mWARN: Function `rng.randint(low, [high, size, dtype])` is marked as deprecated and will be removed in the future. Please use `rng.integers(low, [high, size, dtype])` instead.\u001b[0m\n",
      "  \"Function `rng.randint(low, [high, size, dtype])` is marked as deprecated \"\n"
     ]
    },
    {
     "name": "stdout",
     "output_type": "stream",
     "text": [
      "------------------------------\n",
      "| time/              |       |\n",
      "|    fps             | 2134  |\n",
      "|    iterations      | 1     |\n",
      "|    time_elapsed    | 9     |\n",
      "|    total_timesteps | 20480 |\n",
      "------------------------------\n"
     ]
    }
   ],
   "source": [
    "\n",
    "env = pistonball_v6.parallel_env(n_pistons=10, time_penalty=-0.1, continuous=True, random_drop=True, random_rotate=True, ball_mass=0.75, ball_friction=0.3, ball_elasticity=1.5, max_cycles=125)\n",
    "\n",
    "\n",
    "\n",
    "\n",
    "env = ss.color_reduction_v0(env, mode='B')\n",
    "\n",
    "env = ss.resize_v1(env, x_size=84, y_size=84)\n",
    "\n",
    "\n",
    "env = ss.frame_stack_v1(env, 3)\n",
    "\n",
    "\n",
    "env = ss.pettingzoo_env_to_vec_env_v1(env)\n",
    "\n",
    "\n",
    "env = ss.concat_vec_envs_v1(env, 8, num_cpus=4, base_class='stable_baselines3')\n",
    "\n",
    "\n",
    "model = PPO(CnnPolicy, env, verbose=3, gamma=0.95, n_steps=256, ent_coef=0.0905168, learning_rate=0.00062211, vf_coef=0.042202,\n",
    "            max_grad_norm=0.9, gae_lambda=0.99, n_epochs=5, clip_range=0.3, batch_size=256)\n",
    "model.learn(total_timesteps=200)\n",
    "model.save('policy')\n",
    "\n",
    "env = pistonball_v6.env()\n",
    "env = ss.color_reduction_v0(env, mode='B')\n",
    "env = ss.resize_v1(env, x_size=84, y_size=84)\n",
    "env = ss.frame_stack_v1(env, 3)\n",
    "\n"
   ]
  },
  {
   "cell_type": "code",
   "execution_count": 13,
   "metadata": {},
   "outputs": [
    {
     "name": "stderr",
     "output_type": "stream",
     "text": [
      "/home/mzhao2/anaconda3/lib/python3.7/site-packages/gym/utils/seeding.py:64: DeprecationWarning: \u001b[33mWARN: Function `rng.randint(low, [high, size, dtype])` is marked as deprecated and will be removed in the future. Please use `rng.integers(low, [high, size, dtype])` instead.\u001b[0m\n",
      "  \"Function `rng.randint(low, [high, size, dtype])` is marked as deprecated \"\n"
     ]
    }
   ],
   "source": [
    "frames = []\n",
    "env.reset()\n",
    "for agent in env.agent_iter():\n",
    "    obs, reward, done, info = env.last()\n",
    "    act = model.predict(obs, deterministic=True)[0] if not done else None\n",
    "    env.step(act)\n",
    "    env.render()\n",
    "    frames.append(env.render(mode=\"rgb_array\"))\n",
    "\n",
    "# env.close()\n"
   ]
  },
  {
   "cell_type": "code",
   "execution_count": 25,
   "metadata": {},
   "outputs": [],
   "source": [
    "\n",
    "\n",
    "\"\"\"\n",
    "Ensure you have imagemagick installed with \n",
    "sudo apt-get install imagemagick\n",
    "Open file in CLI with:\n",
    "xgd-open <filelname>\n",
    "\"\"\"\n",
    "def save_frames_as_gif(frames, path='', filename='gym_animation.gif'):\n",
    "\n",
    "    #Mess with this to change frame size\n",
    "    fig=plt.figure(figsize=(frames[0].shape[1] / 72.0, frames[0].shape[0] / 72.0), dpi=72)\n",
    "\n",
    "    patch = plt.imshow(frames[0])\n",
    "    plt.axis('off')\n",
    "\n",
    "    def animate(i):\n",
    "        patch.set_data(frames[i])\n",
    "\n",
    "#     anim = animation.FuncAnimation(plt.gcf(), animate, frames = len(frames), interval=50)\n",
    "#     anim.save(path + filename, writer='imagemagick', fps=60)\n",
    "    anim = animation.ArtistAnimation(fig, frames, interval=50, blit=True,\n",
    "                                repeat_delay=1000)\n",
    "    return anim\n",
    "\n",
    "\n"
   ]
  },
  {
   "cell_type": "code",
   "execution_count": 26,
   "metadata": {},
   "outputs": [
    {
     "name": "stderr",
     "output_type": "stream",
     "text": [
      "Traceback (most recent call last):\n",
      "  File \"/home/mzhao2/anaconda3/lib/python3.7/site-packages/matplotlib/cbook/__init__.py\", line 216, in process\n",
      "    func(*args, **kwargs)\n",
      "  File \"/home/mzhao2/anaconda3/lib/python3.7/site-packages/matplotlib/animation.py\", line 953, in _start\n",
      "    self._init_draw()\n",
      "  File \"/home/mzhao2/anaconda3/lib/python3.7/site-packages/matplotlib/animation.py\", line 1523, in _init_draw\n",
      "    artist.set_visible(False)\n",
      "AttributeError: 'numpy.ndarray' object has no attribute 'set_visible'\n"
     ]
    },
    {
     "data": {
      "image/png": "[encoded data removed]",
      "text/plain": [
       "<Figure size 880x560 with 1 Axes>"
      ]
     },
     "metadata": {
      "needs_background": "light"
     },
     "output_type": "display_data"
    }
   ],
   "source": [
    "ani = save_frames_as_gif(frames)\n",
    "plt.show()"
   ]
  },
  {
   "cell_type": "code",
   "execution_count": 36,
   "metadata": {},
   "outputs": [
    {
     "data": {
      "image/png": "[encoded data removed]",
      "text/plain": [
       "<Figure size 432x288 with 1 Axes>"
      ]
     },
     "metadata": {
      "needs_background": "light"
     },
     "output_type": "display_data"
    },
    {
     "data": {
      "image/png": "[encoded data removed]",
      "text/plain": [
       "<Figure size 432x288 with 1 Axes>"
      ]
     },
     "metadata": {
      "needs_background": "light"
     },
     "output_type": "display_data"
    },
    {
     "data": {
      "image/png": "[encoded data removed]",
      "text/plain": [
       "<Figure size 432x288 with 1 Axes>"
      ]
     },
     "metadata": {
      "needs_background": "light"
     },
     "output_type": "display_data"
    },
    {
     "data": {
      "image/png": "[encoded data removed]",
      "text/plain": [
       "<Figure size 432x288 with 1 Axes>"
      ]
     },
     "metadata": {
      "needs_background": "light"
     },
     "output_type": "display_data"
    },
    {
     "data": {
      "image/png": "[encoded data removed]",
      "text/plain": [
       "<Figure size 432x288 with 1 Axes>"
      ]
     },
     "metadata": {
      "needs_background": "light"
     },
     "output_type": "display_data"
    },
    {
     "data": {
      "image/png": "[encoded data removed]",
      "text/plain": [
       "<Figure size 432x288 with 1 Axes>"
      ]
     },
     "metadata": {
      "needs_background": "light"
     },
     "output_type": "display_data"
    },
    {
     "data": {
      "image/png": "[encoded data removed]",
      "text/plain": [
       "<Figure size 432x288 with 1 Axes>"
      ]
     },
     "metadata": {
      "needs_background": "light"
     },
     "output_type": "display_data"
    },
    {
     "data": {
      "image/png": "[encoded data removed]",
      "text/plain": [
       "<Figure size 432x288 with 1 Axes>"
      ]
     },
     "metadata": {
      "needs_background": "light"
     },
     "output_type": "display_data"
    },
    {
     "data": {
      "image/png": "[encoded data removed]",
      "text/plain": [
       "<Figure size 432x288 with 1 Axes>"
      ]
     },
     "metadata": {
      "needs_background": "light"
     },
     "output_type": "display_data"
    },
    {
     "data": {
      "image/png": "[encoded data removed]",
      "text/plain": [
       "<Figure size 432x288 with 1 Axes>"
      ]
     },
     "metadata": {
      "needs_background": "light"
     },
     "output_type": "display_data"
    }
   ],
   "source": [
    "\n",
    "for i in range(10):\n",
    "\n",
    "#     fig = plt.figure()\n",
    "    plt.imshow(frames[i])\n",
    "    plt.show()\n",
    "\n",
    "    "
   ]
  },
  {
   "cell_type": "code",
   "execution_count": 87,
   "metadata": {},
   "outputs": [],
   "source": [
    "def generate_video(img, folder):\n",
    "    directory = os.getcwd()\n",
    "    print('directory', directory)\n",
    "    for i in range(len(img)):\n",
    "        plt.imshow(img[i])\n",
    "        plt.savefig(folder + \"/file%02d.png\" % i)\n",
    "\n",
    "    os.chdir(folder)\n",
    "    print('directory', directory)\n",
    "    subprocess.call([\n",
    "        'ffmpeg', '-framerate', '1', '-i', 'file%02d.png', '-r', '1', '-pix_fmt', 'yuv420p',\n",
    "        'video_name.mp4'\n",
    "    ])\n",
    "    for file_name in glob.glob(\"*.png\"):\n",
    "        os.remove(file_name)\n",
    "        \n",
    "    os.chdir('../')\n",
    "    print('directory', directory)\n",
    "    plt.close()\n",
    "    "
   ]
  },
  {
   "cell_type": "code",
   "execution_count": 88,
   "metadata": {},
   "outputs": [
    {
     "name": "stdout",
     "output_type": "stream",
     "text": [
      "directory /home/mzhao2/PantheonRL/notebooks\n",
      "directory /home/mzhao2/PantheonRL/notebooks\n",
      "directory /home/mzhao2/PantheonRL/notebooks\n"
     ]
    }
   ],
   "source": [
    "import matplotlib.cm as cm\n",
    "import subprocess\n",
    "import glob\n",
    "# os.chdir('PantheonRL/notebooks')\n",
    "generate_video(frames, 'images')"
   ]
  },
  {
   "cell_type": "code",
   "execution_count": 89,
   "metadata": {},
   "outputs": [
    {
     "data": {
      "text/html": [
       "<video src=\"images/video_name.mp4\" controls  >\n",
       "      Your browser does not support the <code>video</code> element.\n",
       "    </video>"
      ],
      "text/plain": [
       "<IPython.core.display.Video object>"
      ]
     },
     "execution_count": 89,
     "metadata": {},
     "output_type": "execute_result"
    }
   ],
   "source": [
    "from IPython.display import Video\n",
    "\n",
    "Video(\"images/video_name.mp4\")"
   ]
  },
  {
   "cell_type": "code",
   "execution_count": null,
   "metadata": {},
   "outputs": [],
   "source": []
  }
 ],
 "metadata": {
  "kernelspec": {
   "display_name": "Python 3",
   "language": "python",
   "name": "python3"
  },
  "language_info": {
   "codemirror_mode": {
    "name": "ipython",
    "version": 3
   },
   "file_extension": ".py",
   "mimetype": "text/x-python",
   "name": "python",
   "nbconvert_exporter": "python",
   "pygments_lexer": "ipython3",
   "version": "3.7.6"
  }
 },
 "nbformat": 4,
 "nbformat_minor": 4
}
